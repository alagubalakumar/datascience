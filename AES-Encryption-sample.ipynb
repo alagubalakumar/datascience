{
 "cells": [
  {
   "cell_type": "code",
   "execution_count": 15,
   "metadata": {},
   "outputs": [],
   "source": [
    "#pip install pyaes\n",
    "#pip install pbkdf2\n",
    "import pyaes, pbkdf2, binascii, os, secrets"
   ]
  },
  {
   "cell_type": "markdown",
   "metadata": {},
   "source": [
    "PBKDF2 applies a pseudorandom function, such as hash-based message authentication code (HMAC), to the input password or passphrase along with a salt value and repeats the process many times to produce a derived key, which can then be used as a cryptographic key in subsequent operations."
   ]
  },
  {
   "cell_type": "code",
   "execution_count": 16,
   "metadata": {},
   "outputs": [
    {
     "name": "stdout",
     "output_type": "stream",
     "text": [
      "AES encryption key: b'ef123e914ccaa1b21da39edc7719dbba218364887cfd8000aafc7b1db452da36'\n"
     ]
    }
   ],
   "source": [
    "# Derive a 256-bit AES encryption key from the password\n",
    "password = \"s3cr3t*c0d3\"\n",
    "passwordSalt = os.urandom(16)\n",
    "key = pbkdf2.PBKDF2(password, passwordSalt).read(32)\n",
    "print('AES encryption key:', binascii.hexlify(key))"
   ]
  },
  {
   "cell_type": "code",
   "execution_count": 32,
   "metadata": {},
   "outputs": [
    {
     "name": "stdout",
     "output_type": "stream",
     "text": [
      "iv: 62902070684226770264041469567997649277219768230925032438578460309079292619028\n",
      "Encrypted: b'283852d35b94c14433ec538663a549f9956ca4'\n"
     ]
    }
   ],
   "source": [
    "# Encrypt the plaintext with the given key:\n",
    "#   ciphertext = AES-256-CTR-Encrypt(plaintext, key, iv)\n",
    "iv = secrets.randbits(256)\n",
    "print(\"iv:\",iv)\n",
    "plaintext = \"Text for encryption\"\n",
    "#print(pyaes.Counter(iv))\n",
    "aes = pyaes.AESModeOfOperationCTR(key, pyaes.Counter(iv))\n",
    "ciphertext = aes.encrypt(plaintext)\n",
    "print('Encrypted:', binascii.hexlify(ciphertext))"
   ]
  },
  {
   "cell_type": "code",
   "execution_count": 34,
   "metadata": {},
   "outputs": [
    {
     "name": "stdout",
     "output_type": "stream",
     "text": [
      "Decrypted: b'Text for encryption'\n"
     ]
    }
   ],
   "source": [
    "# Decrypt the ciphertext with the given key:\n",
    "#   plaintext = AES-256-CTR-Decrypt(ciphertext, key, iv)\n",
    "aes = pyaes.AESModeOfOperationCTR(binascii.unhexlify(\"ef123e914ccaa1b21da39edc7719dbba218364887cfd8000aafc7b1db452da36\"), pyaes.Counter(62902070684226770264041469567997649277219768230925032438578460309079292619028))\n",
    "decrypted = aes.decrypt(ciphertext)\n",
    "print('Decrypted:', decrypted)"
   ]
  }
 ],
 "metadata": {
  "kernelspec": {
   "display_name": "base",
   "language": "python",
   "name": "python3"
  },
  "language_info": {
   "codemirror_mode": {
    "name": "ipython",
    "version": 3
   },
   "file_extension": ".py",
   "mimetype": "text/x-python",
   "name": "python",
   "nbconvert_exporter": "python",
   "pygments_lexer": "ipython3",
   "version": "3.10.9"
  }
 },
 "nbformat": 4,
 "nbformat_minor": 2
}
